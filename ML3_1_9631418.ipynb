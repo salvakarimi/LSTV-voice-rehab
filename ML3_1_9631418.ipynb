{
  "nbformat": 4,
  "nbformat_minor": 0,
  "metadata": {
    "colab": {
      "name": "ML3_1_9631418.ipynb",
      "provenance": [],
      "collapsed_sections": []
    },
    "kernelspec": {
      "name": "python3",
      "display_name": "Python 3"
    },
    "language_info": {
      "name": "python"
    }
  },
  "cells": [
    {
      "cell_type": "code",
      "metadata": {
        "id": "rIDwR6qtK9yc"
      },
      "source": [
        "import numpy as np\n",
        "import pandas as pd\n",
        "from sklearn.model_selection import KFold\n",
        "from sklearn import svm\n",
        "from sklearn.model_selection import cross_val_score\n",
        "from sklearn.metrics import make_scorer, accuracy_score, f1_score\n",
        "import matplotlib.pyplot as plt"
      ],
      "execution_count": 57,
      "outputs": []
    },
    {
      "cell_type": "code",
      "metadata": {
        "colab": {
          "base_uri": "https://localhost:8080/"
        },
        "id": "m8hY07voPzWy",
        "outputId": "ce0cf2ed-e549-4d57-f52f-d54ff85f54be"
      },
      "source": [
        "data=pd.read_excel(\"/content/LSVT_voice_rehabilitation.xlsx\",sheet_name='Data')\n",
        "#1=acceptable 2=un-acceptable\n",
        "response=pd.read_excel(\"/content/LSVT_voice_rehabilitation.xlsx\",sheet_name='Binary response')\n",
        "data.info"
      ],
      "execution_count": 36,
      "outputs": [
        {
          "output_type": "execute_result",
          "data": {
            "text/plain": [
              "<bound method DataFrame.info of      Jitter->F0_abs_dif  ...  det_TKEO_std4_10_coef\n",
              "0              0.088112  ...            9931.208257\n",
              "1              0.161798  ...           11165.095662\n",
              "2              0.554508  ...            6974.600636\n",
              "3              0.031089  ...            7851.139360\n",
              "4              0.076177  ...            9623.566242\n",
              "..                  ...  ...                    ...\n",
              "121            0.116214  ...            9158.984652\n",
              "122            0.700258  ...           10067.750435\n",
              "123            0.072635  ...            8583.121863\n",
              "124            0.111362  ...            9966.759379\n",
              "125            0.256953  ...            9542.064446\n",
              "\n",
              "[126 rows x 310 columns]>"
            ]
          },
          "metadata": {
            "tags": []
          },
          "execution_count": 36
        }
      ]
    },
    {
      "cell_type": "code",
      "metadata": {
        "id": "jlUrmpy_48-c"
      },
      "source": [
        "import warnings\n",
        "warnings.filterwarnings('ignore')"
      ],
      "execution_count": 3,
      "outputs": []
    },
    {
      "cell_type": "code",
      "metadata": {
        "id": "C3-_V3UEN8m-"
      },
      "source": [
        "X=data.to_numpy()\n",
        "y=response.to_numpy()"
      ],
      "execution_count": 49,
      "outputs": []
    },
    {
      "cell_type": "code",
      "metadata": {
        "id": "10l2OEeLPA8w"
      },
      "source": [
        "#10 fold cross validation\n",
        "kfold = KFold(n_splits=10)"
      ],
      "execution_count": 50,
      "outputs": []
    },
    {
      "cell_type": "markdown",
      "metadata": {
        "id": "uq-YwPl2s08T"
      },
      "source": [
        "# Linear"
      ]
    },
    {
      "cell_type": "code",
      "metadata": {
        "colab": {
          "base_uri": "https://localhost:8080/"
        },
        "id": "bi2s2089s3-I",
        "outputId": "991b18ca-8926-4a53-b89c-cc9775f3a7d4"
      },
      "source": [
        "\n",
        "#Linear Kernel\n",
        "model=svm.SVC(kernel='linear',max_iter=10000)  \n",
        "#results\n",
        "acc_res=cross_val_score(estimator=model,X=X,y=y,cv=kfold,scoring='accuracy')\n",
        "f1_res=cross_val_score(estimator=model,X=X,y=y,cv=kfold,scoring='f1_macro')\n",
        "print(\"accuracy: \",np.mean(acc_res))\n",
        "print(\"f1_score: \",np.mean(f1_res))"
      ],
      "execution_count": 51,
      "outputs": [
        {
          "output_type": "stream",
          "text": [
            "accuracy:  0.4717948717948718\n",
            "f1_score:  0.37632436534913316\n"
          ],
          "name": "stdout"
        }
      ]
    },
    {
      "cell_type": "markdown",
      "metadata": {
        "id": "wLYS6ZXds4xt"
      },
      "source": [
        "# Polynomial"
      ]
    },
    {
      "cell_type": "code",
      "metadata": {
        "colab": {
          "base_uri": "https://localhost:8080/"
        },
        "id": "e_VPpGDWs8kg",
        "outputId": "91b645ba-9e88-40a1-9511-5b9bc6a85093"
      },
      "source": [
        "degree=[2,4,6,10]\n",
        "coef=[0,5,10,20]\n",
        "for d in range(len(degree)):\n",
        "  for c in range(len(coef)):\n",
        "    model=svm.SVC(kernel='poly',degree=degree[d],coef0=coef[c],max_iter=10000)\n",
        "    acc_res=cross_val_score(estimator=model,X=X,y=y,cv=kfold,scoring='accuracy')\n",
        "    f1_res=cross_val_score(estimator=model,X=X,y=y,cv=kfold,scoring='f1_macro')\n",
        "    print(\"degree = \"+str(degree[d])+\" coef0 = \"+str(coef[c]))\n",
        "    print(\"accuracy: \",np.mean(acc_res))\n",
        "    print(\"f1_score: \",np.mean(f1_res))\n",
        "    print(\"---------------------------\")\n",
        "\n"
      ],
      "execution_count": 67,
      "outputs": [
        {
          "output_type": "stream",
          "text": [
            "degree = 2 coef0 = 0\n",
            "accuracy:  0.6666666666666667\n",
            "f1_score:  0.3998268398268398\n",
            "---------------------------\n",
            "degree = 2 coef0 = 5\n",
            "accuracy:  0.6666666666666667\n",
            "f1_score:  0.3998268398268398\n",
            "---------------------------\n",
            "degree = 2 coef0 = 10\n",
            "accuracy:  0.6666666666666667\n",
            "f1_score:  0.3998268398268398\n",
            "---------------------------\n",
            "degree = 2 coef0 = 20\n",
            "accuracy:  0.6666666666666667\n",
            "f1_score:  0.3998268398268398\n",
            "---------------------------\n",
            "degree = 4 coef0 = 0\n",
            "accuracy:  0.6666666666666667\n",
            "f1_score:  0.3998268398268398\n",
            "---------------------------\n",
            "degree = 4 coef0 = 5\n",
            "accuracy:  0.6512820512820513\n",
            "f1_score:  0.3941991341991342\n",
            "---------------------------\n",
            "degree = 4 coef0 = 10\n",
            "accuracy:  0.6128205128205129\n",
            "f1_score:  0.3765380697733639\n",
            "---------------------------\n",
            "degree = 4 coef0 = 20\n",
            "accuracy:  0.6115384615384617\n",
            "f1_score:  0.5100180632920572\n",
            "---------------------------\n",
            "degree = 6 coef0 = 0\n",
            "accuracy:  0.6589743589743591\n",
            "f1_score:  0.39701298701298704\n",
            "---------------------------\n",
            "degree = 6 coef0 = 5\n",
            "accuracy:  0.43589743589743585\n",
            "f1_score:  0.3612499196709723\n",
            "---------------------------\n",
            "degree = 6 coef0 = 10\n",
            "accuracy:  0.5564102564102564\n",
            "f1_score:  0.4792509240845154\n",
            "---------------------------\n",
            "degree = 6 coef0 = 20\n",
            "accuracy:  0.5012820512820513\n",
            "f1_score:  0.4642732585611843\n",
            "---------------------------\n",
            "degree = 10 coef0 = 0\n",
            "accuracy:  0.5564102564102564\n",
            "f1_score:  0.36153806977336383\n",
            "---------------------------\n",
            "degree = 10 coef0 = 5\n",
            "accuracy:  0.5435897435897437\n",
            "f1_score:  0.4595708634330925\n",
            "---------------------------\n",
            "degree = 10 coef0 = 10\n",
            "accuracy:  0.5102564102564103\n",
            "f1_score:  0.4358036115930853\n",
            "---------------------------\n",
            "degree = 10 coef0 = 20\n",
            "accuracy:  0.5192307692307693\n",
            "f1_score:  0.4337789158725692\n",
            "---------------------------\n"
          ],
          "name": "stdout"
        }
      ]
    },
    {
      "cell_type": "markdown",
      "metadata": {
        "id": "ENel0wCQcSmA"
      },
      "source": [
        "با افزایش کو افیشنتت در یک درجه‌ی ثابت در اکثر موارد دقت و امتیاز اف یک کم شده‌اند؛ به جز درجه‌ی ۲ که امتیازات آن ثابتند و در دو. مورد با افزایش کو افیشنت، امتیاز اف یک افزایش پیدا کرده. است"
      ]
    },
    {
      "cell_type": "markdown",
      "metadata": {
        "id": "lR9llCv3d7Vq"
      },
      "source": [
        "با افزایش درجه به ازای کو افیشنت ثابت در اکثر موارد دقت و امتیاز اف یک کم شده‌اند؛ به جز درجه‌ی ۲ که امتیازات آن ثابتند و در دو مورد با ادرجه، امتیاز اف یک افزایش پیدا کرده. است"
      ]
    },
    {
      "cell_type": "markdown",
      "metadata": {
        "id": "ORbeVgjns9Pf"
      },
      "source": [
        "# RBF"
      ]
    },
    {
      "cell_type": "code",
      "metadata": {
        "colab": {
          "base_uri": "https://localhost:8080/"
        },
        "id": "35cYIEAotHeA",
        "outputId": "abb2eaaa-e5f9-4125-c3b0-d3cb5532bd1d"
      },
      "source": [
        "gamma=[1,4,7,20]\n",
        "for g in range(len(gamma)):\n",
        "  model=svm.SVC(kernel='rbf',gamma=gamma[g],max_iter=10000)\n",
        "  acc_res=cross_val_score(estimator=model,X=X,y=y,cv=kfold,scoring='accuracy')\n",
        "  f1_res=cross_val_score(estimator=model,X=X,y=y,cv=kfold,scoring='f1_macro')\n",
        "  print(\"gamma = \"+str(gamma[g]))\n",
        "  print(\"accuracy: \",np.mean(acc_res))\n",
        "  print(\"f1_score: \",np.mean(f1_res))\n",
        "  print(\"---------------------------\")"
      ],
      "execution_count": 62,
      "outputs": [
        {
          "output_type": "stream",
          "text": [
            "gamma = 1\n",
            "accuracy:  0.6666666666666667\n",
            "f1_score:  0.3998268398268398\n",
            "---------------------------\n",
            "gamma = 4\n",
            "accuracy:  0.6666666666666667\n",
            "f1_score:  0.3998268398268398\n",
            "---------------------------\n",
            "gamma = 7\n",
            "accuracy:  0.6666666666666667\n",
            "f1_score:  0.3998268398268398\n",
            "---------------------------\n",
            "gamma = 20\n",
            "accuracy:  0.6666666666666667\n",
            "f1_score:  0.3998268398268398\n",
            "---------------------------\n"
          ],
          "name": "stdout"
        }
      ]
    },
    {
      "cell_type": "markdown",
      "metadata": {
        "id": "MoulCzC_essu"
      },
      "source": [
        "با تغییر گاما، نتیجه تغییر نمی‌کند"
      ]
    },
    {
      "cell_type": "markdown",
      "metadata": {
        "id": "NSPwemX_tIGs"
      },
      "source": [
        "#sigmoid"
      ]
    },
    {
      "cell_type": "code",
      "metadata": {
        "colab": {
          "base_uri": "https://localhost:8080/"
        },
        "id": "Lrf4IIpFtKnt",
        "outputId": "965dd08d-df3d-494b-933d-0e8026612526"
      },
      "source": [
        "coef=[0,1,2,8,20]\n",
        "for c in range(len(coef)):\n",
        "  model=svm.SVC(kernel='sigmoid',coef0=coef[c],max_iter=10000)\n",
        "  acc_res=cross_val_score(estimator=model,X=X,y=y,cv=kfold,scoring='accuracy')\n",
        "  f1_res=cross_val_score(estimator=model,X=X,y=y,cv=kfold,scoring='f1_macro')\n",
        "  print(\"coef0 = \"+str(coef[c]))\n",
        "  print(\"accuracy: \",np.mean(acc_res))\n",
        "  print(\"f1_score: \",np.mean(f1_res))\n",
        "  print(\"---------------------------\")"
      ],
      "execution_count": 72,
      "outputs": [
        {
          "output_type": "stream",
          "text": [
            "coef0 = 0\n",
            "accuracy:  0.5743589743589744\n",
            "f1_score:  0.49316409897292257\n",
            "---------------------------\n",
            "coef0 = 1\n",
            "accuracy:  0.6435897435897436\n",
            "f1_score:  0.42800239234449755\n",
            "---------------------------\n",
            "coef0 = 2\n",
            "accuracy:  0.6666666666666667\n",
            "f1_score:  0.3998268398268398\n",
            "---------------------------\n",
            "coef0 = 8\n",
            "accuracy:  0.6666666666666667\n",
            "f1_score:  0.3998268398268398\n",
            "---------------------------\n",
            "coef0 = 20\n",
            "accuracy:  0.6666666666666667\n",
            "f1_score:  0.3998268398268398\n",
            "---------------------------\n"
          ],
          "name": "stdout"
        }
      ]
    },
    {
      "cell_type": "markdown",
      "metadata": {
        "id": "7S1HwS1zffV0"
      },
      "source": [
        "مقدار دقت با افزایش کو افیشنت ابتدا افزایش یافته و یعد ثابت شده"
      ]
    },
    {
      "cell_type": "markdown",
      "metadata": {
        "id": "rSmIML_afzLd"
      },
      "source": [
        "مقدار اف یک کاهش یفته و بعد ثابت شده\n"
      ]
    },
    {
      "cell_type": "markdown",
      "metadata": {
        "id": "2sn8twcLf7w9"
      },
      "source": [
        "# د)"
      ]
    },
    {
      "cell_type": "code",
      "metadata": {
        "colab": {
          "base_uri": "https://localhost:8080/"
        },
        "id": "cuc0MXIQiHqe",
        "outputId": "66b0e157-c974-441a-f223-3f8eccb45590"
      },
      "source": [
        "print(\"two: \",(y == 2).sum())\n",
        "print(\"one: \",(y == 1).sum())"
      ],
      "execution_count": 74,
      "outputs": [
        {
          "output_type": "stream",
          "text": [
            "two:  84\n",
            "one:  42\n"
          ],
          "name": "stdout"
        }
      ]
    },
    {
      "cell_type": "markdown",
      "metadata": {
        "id": "zHKS6llUgDTE"
      },
      "source": [
        "داده‌ها نامتقارد پس امیاز اف یک به دقت ارجحیت دارد و در نتیجه پلینمیال با درحه‌ی ۴ و کو افیشنت ۲۰ انتخاب می‌شود"
      ]
    }
  ]
}